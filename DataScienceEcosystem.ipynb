{
 "cells": [
  {
   "cell_type": "markdown",
   "id": "287dd3c2-ecae-41e7-9afe-6b40eaa7126b",
   "metadata": {},
   "source": [
    "# Data Science Tools and Ecosystem"
   ]
  },
  {
   "cell_type": "markdown",
   "id": "dc51dfec-0f8b-49e2-9401-29ab3d9020f2",
   "metadata": {},
   "source": [
    "In this notebook, Data Science Tools and Ecosystem are summarized."
   ]
  },
  {
   "cell_type": "markdown",
   "id": "525e17a8-75b3-4758-985d-d6a67e1d5dcc",
   "metadata": {},
   "source": [
    "__Objectives:__\n",
    "- List popular languages for Data Science\n",
    "- Learn what RStudio is\n",
    "- Learn how to use git and GitHub\n",
    "- Learn about Version Control\n",
    "- Learn how to use JupyterLab"
   ]
  },
  {
   "cell_type": "markdown",
   "id": "e0ee9d33-b057-41cf-9fa4-844b079e51f7",
   "metadata": {},
   "source": [
    "Some of the popular languages that Data Scientists use are:\n",
    "+ R\n",
    "+ Python\n",
    "+ Julia"
   ]
  },
  {
   "cell_type": "markdown",
   "id": "176d2bcc-0548-4777-8da1-b2949db582f6",
   "metadata": {},
   "source": [
    "Some of the commonly used libraries used by Data Scientists include:\n",
    "- Pandas\n",
    "- NumPy\n",
    "- Scikit-learn\n",
    "- Pytorch"
   ]
  },
  {
   "cell_type": "markdown",
   "id": "0fe6dcc5-b1fb-4830-b1c8-24c74b98d5e4",
   "metadata": {},
   "source": [
    "\n",
    "| Data Science Tools |\n",
    "| ------------------- |\n",
    "| JupyterLab | \n",
    "| VisualStudio Code | \n",
    "| Google Colaboratory | "
   ]
  },
  {
   "cell_type": "markdown",
   "id": "c26c6636-d5a1-40be-98c6-84b0a86d2858",
   "metadata": {},
   "source": [
    "### Below are a few examples of evaluating arithmetic expressions in Python"
   ]
  },
  {
   "cell_type": "code",
   "execution_count": 1,
   "id": "72aae5ec-cd14-41b3-8dd7-9820188e8f51",
   "metadata": {},
   "outputs": [
    {
     "data": {
      "text/plain": [
       "6"
      ]
     },
     "execution_count": 1,
     "metadata": {},
     "output_type": "execute_result"
    }
   ],
   "source": [
    "a=1\n",
    "b=2\n",
    "c=3\n",
    "a+b+c"
   ]
  },
  {
   "cell_type": "code",
   "execution_count": 2,
   "id": "2c1ac66e-ae48-4596-a4b8-e7885259d498",
   "metadata": {},
   "outputs": [
    {
     "data": {
      "text/plain": [
       "3"
      ]
     },
     "execution_count": 2,
     "metadata": {},
     "output_type": "execute_result"
    }
   ],
   "source": [
    "max(1,2,3)"
   ]
  },
  {
   "cell_type": "code",
   "execution_count": 4,
   "id": "81529a0d-e945-41c2-8ae7-90c29a48c27d",
   "metadata": {},
   "outputs": [
    {
     "data": {
      "text/plain": [
       "1"
      ]
     },
     "execution_count": 4,
     "metadata": {},
     "output_type": "execute_result"
    }
   ],
   "source": [
    "min(1,2,3)"
   ]
  },
  {
   "cell_type": "code",
   "execution_count": 6,
   "id": "925df3ec-3c85-4237-96ad-8d8ba90e27ae",
   "metadata": {},
   "outputs": [
    {
     "data": {
      "text/plain": [
       "17"
      ]
     },
     "execution_count": 6,
     "metadata": {},
     "output_type": "execute_result"
    }
   ],
   "source": [
    "# This a simple arithmetic expression to mutiply then add integers\n",
    "(3*4)+5"
   ]
  },
  {
   "cell_type": "code",
   "execution_count": 7,
   "id": "0abd10be-5846-4884-8127-68b20b63acb1",
   "metadata": {},
   "outputs": [
    {
     "data": {
      "text/plain": [
       "3.3333333333333335"
      ]
     },
     "execution_count": 7,
     "metadata": {},
     "output_type": "execute_result"
    }
   ],
   "source": [
    "# This will convert 200 minutes to hours by diving by 60\n",
    "mins=200\n",
    "mins/60"
   ]
  },
  {
   "cell_type": "markdown",
   "id": "022ed8bf-f608-41a5-b36e-8b14fe82d1f9",
   "metadata": {},
   "source": [
    "## Author\n",
    "Vasilisa Rudneva"
   ]
  }
 ],
 "metadata": {
  "kernelspec": {
   "display_name": "Python 3 (ipykernel)",
   "language": "python",
   "name": "python3"
  },
  "language_info": {
   "codemirror_mode": {
    "name": "ipython",
    "version": 3
   },
   "file_extension": ".py",
   "mimetype": "text/x-python",
   "name": "python",
   "nbconvert_exporter": "python",
   "pygments_lexer": "ipython3",
   "version": "3.11.4"
  }
 },
 "nbformat": 4,
 "nbformat_minor": 5
}
